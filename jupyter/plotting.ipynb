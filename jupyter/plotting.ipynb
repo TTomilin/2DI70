{
 "cells": [
  {
   "cell_type": "code",
   "execution_count": 1,
   "metadata": {
    "pycharm": {
     "name": "#%%\n"
    }
   },
   "outputs": [],
   "source": [
    "from knn_restructured.knn import KNN\n",
    "from knn_restructured.utils import *\n",
    "from tqdm import tqdm\n",
    "from sklearn.metrics import accuracy_score\n",
    "import matplotlib.pyplot as plt\n",
    "import seaborn as sns\n",
    "import time as time"
   ]
  },
  {
   "cell_type": "code",
   "execution_count": 2,
   "metadata": {
    "pycharm": {
     "name": "#%%\n"
    }
   },
   "outputs": [
    {
     "data": {
      "text/plain": [
       "\"\\nbucket_name = 'statsdata'\\ntrain_file_name = 'MNIST_train.csv'\\ntest_file_name = 'MNIST_test.csv'\\nregion = 'us-east-2'\\n\\nclient = boto3.client('s3')#aws_access_key_id=aws_access_key_id, aws_secret_access_key=aws_secret_access_key\\n\\nresource = boto3.resource('s3') #high-level object-oriented API\\nmy_bucket = resource.Bucket(bucket_name) #subsitute this for your s3 bucket name.\\n\""
      ]
     },
     "execution_count": 2,
     "metadata": {},
     "output_type": "execute_result"
    }
   ],
   "source": [
    "'''\n",
    "bucket_name = 'statsdata'\n",
    "train_file_name = 'MNIST_train.csv'\n",
    "test_file_name = 'MNIST_test.csv'\n",
    "region = 'us-east-2'\n",
    "\n",
    "client = boto3.client('s3')#aws_access_key_id=aws_access_key_id, aws_secret_access_key=aws_secret_access_key\n",
    "\n",
    "resource = boto3.resource('s3') #high-level object-oriented API\n",
    "my_bucket = resource.Bucket(bucket_name) #subsitute this for your s3 bucket name.\n",
    "'''"
   ]
  },
  {
   "cell_type": "code",
   "execution_count": 3,
   "metadata": {
    "pycharm": {
     "name": "#%%\n"
    }
   },
   "outputs": [],
   "source": [
    "'''train = pd.read_csv('s3://statsdata/MNIST_train.csv',header=None)\n",
    "\n",
    "test = pd.read_csv('s3://statsdata/MNIST_test.csv',header=None)\n",
    "'''\n",
    "train = pd.read_csv('data/MNIST_train_small.csv', header=None)\n",
    "train.rename(columns={0:'label'}, inplace=True)\n",
    "test = pd.read_csv('data/MNIST_test_small.csv', header=None)\n",
    "test.rename(columns={0:'label'}, inplace=True)"
   ]
  },
  {
   "cell_type": "code",
   "execution_count": 4,
   "metadata": {
    "pycharm": {
     "name": "#%%\n"
    }
   },
   "outputs": [],
   "source": [
    "ss = StandardScaler()\n",
    "standardized_train = ss.fit_transform(train.iloc[:, 1:])\n",
    "standardized_test = ss.transform(test.iloc[:, 1:])"
   ]
  },
  {
   "cell_type": "code",
   "execution_count": 5,
   "metadata": {
    "pycharm": {
     "name": "#%%\n"
    }
   },
   "outputs": [],
   "source": [
    "pca = PCA(n_components=764, svd_solver='arpack')\n",
    "transformed_train = pca.fit_transform(standardized_train)\n",
    "transformed_test = pca.transform(standardized_test)"
   ]
  },
  {
   "cell_type": "code",
   "execution_count": 6,
   "metadata": {
    "pycharm": {
     "name": "#%%\n"
    }
   },
   "outputs": [],
   "source": [
    "df_train = pd.DataFrame(data=transformed_train, columns=np.arange(1, 765, 1))\n",
    "df_train.insert(loc=0, column='label', value=train['label'])\n",
    "df_test = pd.DataFrame(data=transformed_test, columns=np.arange(1, 765, 1))\n",
    "df_test.insert(loc=0, column='label', value=test['label'])"
   ]
  },
  {
   "cell_type": "code",
   "execution_count": 7,
   "metadata": {
    "pycharm": {
     "name": "#%%\n"
    }
   },
   "outputs": [],
   "source": [
    "#train_pca, test_pca, var = get_pca_data(train, test)"
   ]
  },
  {
   "cell_type": "code",
   "execution_count": 8,
   "metadata": {
    "pycharm": {
     "name": "#%%\n"
    }
   },
   "outputs": [
    {
     "name": "stderr",
     "output_type": "stream",
     "text": [
      "100%|██████████| 3000/3000 [00:19<00:00, 151.05it/s]\n",
      "100%|██████████| 3000/3000 [00:33<00:00, 90.45it/s] \n"
     ]
    }
   ],
   "source": [
    "init_train_200 = time.time()\n",
    "a_knn_train_train_200 = KNN(train.iloc[:,:201], minkowski_dist_f(2))\n",
    "a_knn_train_train_200.initalize_nn_list(train.iloc[:,:201])\n",
    "total_init_train_200 = init_train_200 - time.time()\n",
    "\n",
    "init_train_300 = time.time()\n",
    "a_knn_train_train_300 = KNN(train.iloc[:,:301], minkowski_dist_f(2))\n",
    "a_knn_train_train_300.initalize_nn_list(train.iloc[:,:301])\n",
    "total_init_train_300 = init_train_300 - time.time()"
   ]
  },
  {
   "cell_type": "code",
   "execution_count": 9,
   "metadata": {
    "pycharm": {
     "name": "#%%\n"
    }
   },
   "outputs": [
    {
     "name": "stderr",
     "output_type": "stream",
     "text": [
      "100%|██████████| 1000/1000 [00:12<00:00, 78.67it/s]\n"
     ]
    }
   ],
   "source": [
    "init_test = time.time()\n",
    "a_knn_train_test = KNN(train.iloc[:,:201], minkowski_dist_f(2))\n",
    "a_knn_train_test.initalize_nn_list(test.iloc[:,:201])\n",
    "total_init_test = init_test - time.time()"
   ]
  },
  {
   "cell_type": "code",
   "execution_count": 10,
   "metadata": {
    "pycharm": {
     "name": "#%%\n"
    }
   },
   "outputs": [
    {
     "data": {
      "text/plain": [
       "\"\\n#training_acc = pd.DataFrame(data=k_list, columns=['k'])\\ntest_acc = pd.DataFrame(data=k_list, columns=['k'])\\n#training_acc['dataset'] = '300 PCs'\\ntest_acc['dataset'] = '300 PCs'\\n\""
      ]
     },
     "execution_count": 10,
     "metadata": {},
     "output_type": "execute_result"
    }
   ],
   "source": [
    "k_list = [k for k in range(1, 21)] \n",
    "\n",
    "#training_emp_risks = pd.DataFrame(data=k_list, columns=['k'])\n",
    "#training_emp_risks['dataset'] = '200 PCs'\n",
    "\n",
    "test_emp_risks_200 = pd.DataFrame(data=k_list, columns=['k'])\n",
    "test_emp_risks_200['dataset'] = 'Test 200 PCs'\n",
    "test_emp_risks_300 = pd.DataFrame(data=k_list, columns=['k'])\n",
    "test_emp_risks_300['dataset'] = 'Test 300 PCs'\n",
    "\n",
    "'''\n",
    "#training_acc = pd.DataFrame(data=k_list, columns=['k'])\n",
    "test_acc = pd.DataFrame(data=k_list, columns=['k'])\n",
    "#training_acc['dataset'] = '300 PCs'\n",
    "test_acc['dataset'] = '300 PCs'\n",
    "'''"
   ]
  },
  {
   "cell_type": "code",
   "execution_count": 12,
   "metadata": {
    "pycharm": {
     "name": "#%%\n"
    }
   },
   "outputs": [],
   "source": [
    "training_labels = list(train[\"label\"].values)\n",
    "test_labels = list(test[\"label\"].values) \n",
    "\n",
    "'''\n",
    "pred_train = time.time()\n",
    "for inx, row in training_emp_risks.iterrows():\n",
    "    training_predictions = a_knn_train_train.predict(list(train.index), k=row['k'], loocv=False)\n",
    "    train_emp = get_emp_risk(training_labels, training_predictions)\n",
    "    training_emp_risks.loc[inx,'emperical_risk'] = train_emp\n",
    "    \n",
    "    acc = accuracy_score(training_labels, training_predictions, normalize=True, sample_weight=None)\n",
    "    training_acc.loc[inx,'accuracy'] = acc\n",
    "total_pred_train = time.time() - pred_train\n",
    " '''   \n",
    "    \n",
    "pred_test_200 = time.time()\n",
    "for inx, row in test_emp_risks_200.iterrows():\n",
    "    test_predictions = a_knn_train_train_200.predict(list(test.index), k=row['k'], loocv=False)\n",
    "    \n",
    "    test_emp = get_emp_risk(test_labels, test_predictions)\n",
    "    test_emp_risks_200.loc[inx,'emperical_risk'] = test_emp\n",
    "    \n",
    "    '''\n",
    "    acc = accuracy_score(test_labels, test_predictions, normalize=True, sample_weight=None)\n",
    "    test_acc.loc[inx,'accuracy'] = acc\n",
    "    '''\n",
    "total_pred_test_200 = time.time() - pred_test_200"
   ]
  },
  {
   "cell_type": "code",
   "execution_count": 13,
   "metadata": {
    "pycharm": {
     "name": "#%%\n"
    }
   },
   "outputs": [],
   "source": [
    "pred_test_300 = time.time()\n",
    "for inx, row in test_emp_risks_300.iterrows():\n",
    "    test_predictions = a_knn_train_train_300.predict(list(test.index), k=row['k'], loocv=False)\n",
    "    \n",
    "    test_emp = get_emp_risk(test_labels, test_predictions)\n",
    "    test_emp_risks_300.loc[inx,'emperical_risk'] = test_emp\n",
    "    \n",
    "    '''\n",
    "    acc = accuracy_score(test_labels, test_predictions, normalize=True, sample_weight=None)\n",
    "    test_acc.loc[inx,'accuracy'] = acc\n",
    "    '''\n",
    "total_pred_test_300 = time.time() - pred_test_300"
   ]
  },
  {
   "cell_type": "code",
   "execution_count": 14,
   "metadata": {
    "pycharm": {
     "name": "#%%\n"
    }
   },
   "outputs": [],
   "source": [
    "'''emp_risks = training_emp_risks.append(test_emp_risks, ignore_index=True)\n",
    "accuracies = training_acc.append(test_acc, ignore_index=True)'''\n",
    "emp_risks = test_emp_risks_200.append(test_emp_risks_300, ignore_index=True)"
   ]
  },
  {
   "cell_type": "code",
   "execution_count": 15,
   "metadata": {
    "pycharm": {
     "name": "#%%\n"
    }
   },
   "outputs": [
    {
     "data": {
      "text/plain": [
       "'g=sns.lineplot(data=accuracies, x=\\'k\\', y=\\'accuracy\\', hue=\\'dataset\\')\\n\\ng.set(xlabel=\\'k\\', ylabel=\\'Acc\\')\\n\\nplt.gcf().set_size_inches(11.7, 8.27)\\nplt.xticks(np.arange(1,21,1))\\n\\nplt.savefig(\"images/question_a_accuracy.png\")'"
      ]
     },
     "execution_count": 15,
     "metadata": {},
     "output_type": "execute_result"
    }
   ],
   "source": [
    "'''g=sns.lineplot(data=accuracies, x='k', y='accuracy', hue='dataset')\n",
    "\n",
    "g.set(xlabel='k', ylabel='Acc')\n",
    "\n",
    "plt.gcf().set_size_inches(11.7, 8.27)\n",
    "plt.xticks(np.arange(1,21,1))\n",
    "\n",
    "plt.savefig(\"images/question_a_accuracy.png\")'''"
   ]
  },
  {
   "cell_type": "code",
   "execution_count": 16,
   "metadata": {
    "pycharm": {
     "name": "#%%\n"
    }
   },
   "outputs": [
    {
     "data": {
      "image/png": "[encoded data removed]",
      "text/plain": [
       "<Figure size 842.4x595.44 with 1 Axes>"
      ]
     },
     "metadata": {
      "needs_background": "light"
     },
     "output_type": "display_data"
    }
   ],
   "source": [
    "g=sns.lineplot(data=emp_risks, x='k', y='emperical_risk', hue='dataset')\n",
    "\n",
    "g.set(xlabel='k', ylabel='Emperical Risk')\n",
    "\n",
    "plt.gcf().set_size_inches(11.7, 8.27)\n",
    "plt.xticks(np.arange(1,21,1))\n",
    "\n",
    "plt.savefig(\"images/question_g_empirical_risk.png\")"
   ]
  },
  {
   "cell_type": "code",
   "execution_count": null,
   "metadata": {
    "pycharm": {
     "name": "#%%\n"
    }
   },
   "outputs": [],
   "source": []
  }
 ],
 "metadata": {
  "kernelspec": {
   "display_name": "Python 3",
   "language": "python",
   "name": "python3"
  },
  "language_info": {
   "codemirror_mode": {
    "name": "ipython",
    "version": 3
   },
   "file_extension": ".py",
   "mimetype": "text/x-python",
   "name": "python",
   "nbconvert_exporter": "python",
   "pygments_lexer": "ipython3",
   "version": "3.7.4"
  }
 },
 "nbformat": 4,
 "nbformat_minor": 2
}